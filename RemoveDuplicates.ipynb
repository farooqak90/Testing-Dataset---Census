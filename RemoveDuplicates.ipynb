{
 "cells": [
  {
   "cell_type": "code",
   "execution_count": null,
   "metadata": {
    "collapsed": true
   },
   "outputs": [],
   "source": []
  },
  {
   "cell_type": "markdown",
   "metadata": {},
   "source": [
    "### essential steps in data processing\n",
    "### Removing Duplicates, Reformatting Data, Renaming, and Reordering Columns\n",
    "\n",
    "\n",
    "# 1. Removing duplicates:\n",
    "Duplicates in a dataset --> inaccurate analysis and results."
   ]
  },
  {
   "cell_type": "code",
   "execution_count": 1,
   "metadata": {},
   "outputs": [
    {
     "data": {
      "text/html": [
       "<div>\n",
       "<style scoped>\n",
       "    .dataframe tbody tr th:only-of-type {\n",
       "        vertical-align: middle;\n",
       "    }\n",
       "\n",
       "    .dataframe tbody tr th {\n",
       "        vertical-align: top;\n",
       "    }\n",
       "\n",
       "    .dataframe thead th {\n",
       "        text-align: right;\n",
       "    }\n",
       "</style>\n",
       "<table border=\"1\" class=\"dataframe\">\n",
       "  <thead>\n",
       "    <tr style=\"text-align: right;\">\n",
       "      <th></th>\n",
       "      <th>name</th>\n",
       "      <th>age</th>\n",
       "      <th>gender</th>\n",
       "    </tr>\n",
       "  </thead>\n",
       "  <tbody>\n",
       "    <tr>\n",
       "      <th>0</th>\n",
       "      <td>John</td>\n",
       "      <td>25</td>\n",
       "      <td>M</td>\n",
       "    </tr>\n",
       "    <tr>\n",
       "      <th>1</th>\n",
       "      <td>Alice</td>\n",
       "      <td>30</td>\n",
       "      <td>F</td>\n",
       "    </tr>\n",
       "    <tr>\n",
       "      <th>2</th>\n",
       "      <td>Mary</td>\n",
       "      <td>27</td>\n",
       "      <td>F</td>\n",
       "    </tr>\n",
       "    <tr>\n",
       "      <th>3</th>\n",
       "      <td>John</td>\n",
       "      <td>25</td>\n",
       "      <td>M</td>\n",
       "    </tr>\n",
       "  </tbody>\n",
       "</table>\n",
       "</div>"
      ],
      "text/plain": [
       "    name  age gender\n",
       "0   John   25      M\n",
       "1  Alice   30      F\n",
       "2   Mary   27      F\n",
       "3   John   25      M"
      ]
     },
     "execution_count": 1,
     "metadata": {},
     "output_type": "execute_result"
    }
   ],
   "source": [
    "import pandas as pd\n",
    "\n",
    "# create a sample dataframe\n",
    "df = pd.DataFrame({'name':['John', 'Alice', 'Mary', 'John'],\n",
    "                   'age':[25, 30, 27, 25],\n",
    "                   'gender':['M', 'F', 'F', 'M']})\n",
    "\n",
    "df"
   ]
  },
  {
   "cell_type": "code",
   "execution_count": 2,
   "metadata": {},
   "outputs": [
    {
     "name": "stdout",
     "output_type": "stream",
     "text": [
      "    name  age gender\n",
      "0   John   25      M\n",
      "1  Alice   30      F\n",
      "2   Mary   27      F\n"
     ]
    }
   ],
   "source": [
    "# remove duplicates based on all columns\n",
    "# function removes rows that are exactly the same as another row in the dataframe.\n",
    "df1 = df.drop_duplicates()\n",
    "print(df1)"
   ]
  },
  {
   "cell_type": "code",
   "execution_count": 3,
   "metadata": {},
   "outputs": [
    {
     "name": "stdout",
     "output_type": "stream",
     "text": [
      "    name  age gender\n",
      "0   John   25      M\n",
      "1  Alice   30      F\n",
      "2   Mary   27      F\n"
     ]
    }
   ],
   "source": [
    "# remove duplicates based on a specific column\n",
    "df2 = df.drop_duplicates(subset=['name'])\n",
    "print(df2)"
   ]
  },
  {
   "cell_type": "code",
   "execution_count": null,
   "metadata": {},
   "outputs": [],
   "source": [
    "\n",
    "\n"
   ]
  },
  {
   "cell_type": "markdown",
   "metadata": {},
   "source": [
    "### 2. Reformatting data\n",
    "\n",
    "Data can be formatted in various ways.\n",
    "Sometimes, it may be necessary to reformat data to fit specific requirements or to make it more presentable.\n",
    "In Python, we can use various functions and methods to reformat data."
   ]
  },
  {
   "cell_type": "code",
   "execution_count": 4,
   "metadata": {},
   "outputs": [
    {
     "name": "stdout",
     "output_type": "stream",
     "text": [
      "Raw data\n",
      "\n",
      "         date  sales\n",
      "0  01-01-2021    500\n",
      "1  02-01-2021    700\n",
      "2  03-01-2021    900\n",
      "\n",
      "Converting date to datetime format\n",
      "\n",
      "        date  sales\n",
      "0 2021-01-01    500\n",
      "1 2021-02-01    700\n",
      "2 2021-03-01    900\n",
      "\n",
      "Changing format of the date\n",
      "\n",
      "         date  sales\n",
      "0  01/01/2021    500\n",
      "1  02/01/2021    700\n",
      "2  03/01/2021    900\n",
      "\n",
      "formating and adding currency symbol\n",
      "\n",
      "         date     sales\n",
      "0  01/01/2021  $ 500.00\n",
      "1  02/01/2021  $ 700.00\n",
      "2  03/01/2021  $ 900.00\n"
     ]
    }
   ],
   "source": [
    "# create a sample dataframe\n",
    "df = pd.DataFrame({'date':['01-01-2021', '02-01-2021', '03-01-2021'],\n",
    "                   'sales':[500, 700, 900]})\n",
    "\n",
    "print(\"Raw data\\n\")\n",
    "print(df)\n",
    "\n",
    "# convert date to datetime format\n",
    "print(\"\\nConverting date to datetime format\\n\")\n",
    "df['date'] = pd.to_datetime(df['date'])\n",
    "print(df)\n",
    "\n",
    "# change the format of the date\n",
    "print(\"\\nChanging format of the date\\n\")\n",
    "df['date'] = df['date'].dt.strftime('%m/%d/%Y')\n",
    "print(df)\n",
    "\n",
    "# format the sales column with a currency symbol\n",
    "print(\"\\nformating and adding currency symbol\\n\")\n",
    "df['sales'] = df['sales'].apply(lambda x: '$ %.2f' % x)\n",
    "# var/funName= lambda  params-list :  expression\n",
    "print(df)"
   ]
  },
  {
   "cell_type": "markdown",
   "metadata": {},
   "source": [
    "### 4. Renaming and Reordering columns\n",
    "\n",
    "Column names may not always be descriptive or may need to be changed to fit specific requirements. Similarly, the order of columns may also need to be changed.\n",
    "In Python, we can use the pandas library to rename and reorder columns."
   ]
  },
  {
   "cell_type": "code",
   "execution_count": 5,
   "metadata": {},
   "outputs": [
    {
     "name": "stdout",
     "output_type": "stream",
     "text": [
      "\n",
      "Raw data\n",
      "\n",
      "    name  age gender\n",
      "0   John   25      M\n",
      "1  Alice   30      F\n",
      "2   Mary   27      F\n",
      "\n",
      "renaming column\n",
      "\n",
      "  First Name  Age Gender\n",
      "0       John   25      M\n",
      "1      Alice   30      F\n",
      "2       Mary   27      F\n",
      "\n",
      "reordering columns\n",
      "\n",
      "  Gender  Age First Name\n",
      "0      M   25       John\n",
      "1      F   30      Alice\n",
      "2      F   27       Mary\n"
     ]
    }
   ],
   "source": [
    "# create a sample dataframe\n",
    "df = pd.DataFrame({'name':['John', 'Alice', 'Mary'],\n",
    "                   'age':[25, 30, 27],\n",
    "                   'gender':['M', 'F', 'F']})\n",
    "print(\"\\nRaw data\\n\")\n",
    "print(df)\n",
    "\n",
    "# rename columns\n",
    "df = df.rename(columns={'name':'First Name', 'age':'Age', 'gender':'Gender'})\n",
    "print(\"\\nrenaming column\\n\")\n",
    "print(df)\n",
    "\n",
    "# reorder columns\n",
    "df = df[['Gender', 'Age', 'First Name']]\n",
    "print(\"\\nreordering columns\\n\")\n",
    "print(df)"
   ]
  },
  {
   "cell_type": "code",
   "execution_count": null,
   "metadata": {},
   "outputs": [],
   "source": []
  }
 ],
 "metadata": {
  "kernelspec": {
   "display_name": "Python 3 (ipykernel)",
   "language": "python",
   "name": "python3"
  },
  "language_info": {
   "codemirror_mode": {
    "name": "ipython",
    "version": 3
   },
   "file_extension": ".py",
   "mimetype": "text/x-python",
   "name": "python",
   "nbconvert_exporter": "python",
   "pygments_lexer": "ipython3",
   "version": "3.9.13"
  }
 },
 "nbformat": 4,
 "nbformat_minor": 1
}
