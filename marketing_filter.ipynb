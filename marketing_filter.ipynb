{
 "cells": [
  {
   "cell_type": "code",
   "execution_count": 1,
   "outputs": [
    {
     "name": "stdout",
     "output_type": "stream",
     "text": [
      "<_io.TextIOWrapper name='marketing.data' mode='r' encoding='UTF-8'>\n",
      "<_io.TextIOWrapper name='marketing.filtered.data' mode='w' encoding='UTF-8'>\n",
      "Count of all lines      8993\n",
      "Count of filtered lines 6876\n"
     ]
    }
   ],
   "source": [
    "f = open('marketing.data')\n",
    "print (f)\n",
    "\n",
    "o = open('marketing.filtered.data', 'w')\n",
    "print (o)\n",
    "\n",
    "countAll = 0\n",
    "countRemaining = 0\n",
    "\n",
    "for input in f:\n",
    "    tokens = input.strip('\\n').split(' ')\n",
    "    countAll = countAll + 1\n",
    "\n",
    "    # Check each element to see if it contains a 'N/A'\n",
    "    col1 = tokens[0]\n",
    "    if (col1 == 'NA'): continue\n",
    "    col2 = tokens[1]\n",
    "    if (col2 == 'NA'): continue\n",
    "    col3 = tokens[2]\n",
    "    if (col3 == 'NA'): continue\n",
    "    col4 = tokens[3]\n",
    "    if (col4 == 'NA'): continue\n",
    "    col5 = tokens[4]\n",
    "    if (col5 == 'NA'): continue\n",
    "    col6 = tokens[5]\n",
    "    if (col6 == 'NA'): continue\n",
    "    col7 = tokens[6]\n",
    "    if (col7 == 'NA'): continue\n",
    "    col8 = tokens[7]\n",
    "    if (col8 == 'NA'): continue\n",
    "    col9 = tokens[8]\n",
    "    if (col9 == 'NA'): continue\n",
    "    col10 = tokens[9]\n",
    "    if (col10 == 'NA'): continue\n",
    "    col11 = tokens[10]\n",
    "    if (col11 == 'NA'): continue\n",
    "    col12 = tokens[11]\n",
    "    if (col12 == 'NA'): continue\n",
    "    col13 = tokens[12]\n",
    "    if (col13 == 'NA'): continue\n",
    "    col14 = tokens[13]\n",
    "    if (col14 == 'NA'): continue\n",
    "\n",
    "    # What the remaining lines\n",
    "    countRemaining = countRemaining + 1\n",
    "\n",
    "    # Output the line\n",
    "    o.write(input)\n",
    "\n",
    "print('Count of all lines      ' + str(countAll))\n",
    "print('Count of filtered lines ' + str(countRemaining))\n",
    "o.close()\n",
    "f.close()\n"
   ],
   "metadata": {
    "collapsed": false
   }
  },
  {
   "cell_type": "code",
   "execution_count": null,
   "outputs": [],
   "source": [],
   "metadata": {
    "collapsed": false
   }
  }
 ],
 "metadata": {
  "kernelspec": {
   "display_name": "Python 3",
   "language": "python",
   "name": "python3"
  },
  "language_info": {
   "codemirror_mode": {
    "name": "ipython",
    "version": 2
   },
   "file_extension": ".py",
   "mimetype": "text/x-python",
   "name": "python",
   "nbconvert_exporter": "python",
   "pygments_lexer": "ipython2",
   "version": "2.7.6"
  }
 },
 "nbformat": 4,
 "nbformat_minor": 0
}
