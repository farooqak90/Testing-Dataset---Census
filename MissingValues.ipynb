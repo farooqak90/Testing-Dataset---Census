{
 "cells": [
  {
   "cell_type": "code",
   "execution_count": null,
   "metadata": {},
   "outputs": [],
   "source": [
    "# Python Pandas for Handling Missing Values"
   ]
  },
  {
   "cell_type": "markdown",
   "metadata": {},
   "source": [
    "### Data is often collected from multiple sources and can contain missing values or null values.\n",
    "> Missing values can occur in any dataset and can be caused by various reasons such as\n",
    "data entry errors,\n",
    "incomplete data, or\n",
    "intentional omissions.\n",
    "It’s a common problem in data analysis as they can lead to incorrect analysis or results. Therefore, it is important to handle these missing values before further analysis.\n",
    "\n",
    "# data manipulation library in Python, provides efficient methods to handle missing data\n",
    "\n",
    "# functions to handle missing data such as isna(), isnull(), notnull(), dropna(),fillna(), and replace()."
   ]
  },
  {
   "cell_type": "code",
   "execution_count": null,
   "metadata": {},
   "outputs": [],
   "source": [
    "# 1. Identify the missing values\n",
    "# use the isna() or isnull()\n",
    "# These methods will return a Boolean array that indicates whether each value in the DataFrame is missing or not\n",
    "import pandas as pd\n",
    "\n",
    "# create a DataFrame with missing values\n",
    "data = {'Name': ['John', 'Joseph', 'Mary', 'Mark', 'David', 'Mike'], 'Age': [25, 33, None, 28, 29, 35], 'Salary': [50000, None, 60000, 55000, 70000, 65000]}\n",
    "#\n",
    "df = pd.DataFrame(data)\n",
    "#\n",
    "df"
   ]
  },
  {
   "cell_type": "code",
   "execution_count": null,
   "metadata": {},
   "outputs": [],
   "source": [
    "# check for missing values\n",
    "print(df.isnull())"
   ]
  },
  {
   "cell_type": "code",
   "execution_count": null,
   "metadata": {},
   "outputs": [],
   "source": [
    "print(df.notnull())    # The notnull() method returns the opposite of isnull()."
   ]
  },
  {
   "cell_type": "markdown",
   "metadata": {},
   "source": [
    "# 2. Dropping Missing Values"
   ]
  },
  {
   "cell_type": "code",
   "execution_count": null,
   "metadata": {},
   "outputs": [],
   "source": [
    "# drop rows with missing values\n",
    "df_dropped = df.dropna()     # Remove any row that contains missing values\n",
    "\n",
    "print(df_dropped)"
   ]
  },
  {
   "cell_type": "markdown",
   "metadata": {},
   "source": [
    "### 3. Filling of Replace Missing Values\n",
    "\n",
    "If your dataset has a large number of missing values, it may be more appropriate to replace them with other values.\n",
    "Pandas provides several methods to replace missing values, including fillna() and replace().\n",
    "The fillna() method replaces missing values with a specified value or with values from a specified method.\n",
    "The replace() method replaces specified values with other values."
   ]
  },
  {
   "cell_type": "code",
   "execution_count": null,
   "metadata": {},
   "outputs": [],
   "source": [
    "# Replace missing values with a specified value\n",
    "df_filled = df.fillna(0) # Replace missing values with 0\n",
    "\n",
    "print(df_filled)"
   ]
  },
  {
   "cell_type": "code",
   "execution_count": null,
   "metadata": {},
   "outputs": [],
   "source": [
    "df_filled = df.fillna(df['Age'].mean())    # Replace missing values with the mean of the column\n",
    "\n",
    "print(df_filled)"
   ]
  },
  {
   "cell_type": "code",
   "execution_count": null,
   "metadata": {},
   "outputs": [],
   "source": [
    "# Replace specified values with other values\n",
    "df_replace = df.replace({'Mary':'Johns'}) # Replace Mary with Johns\n",
    "\n",
    "print(df_replace)"
   ]
  },
  {
   "cell_type": "markdown",
   "metadata": {},
   "source": [
    "\n"
   ]
  },
  {
   "cell_type": "code",
   "execution_count": null,
   "metadata": {},
   "outputs": [],
   "source": []
  }
 ],
 "metadata": {
  "kernelspec": {
   "display_name": "Python 3 (ipykernel)",
   "language": "python",
   "name": "python3"
  },
  "language_info": {
   "codemirror_mode": {
    "name": "ipython",
    "version": 3
   },
   "file_extension": ".py",
   "mimetype": "text/x-python",
   "name": "python",
   "nbconvert_exporter": "python",
   "pygments_lexer": "ipython3",
   "version": "3.9.13"
  }
 },
 "nbformat": 4,
 "nbformat_minor": 1
}
